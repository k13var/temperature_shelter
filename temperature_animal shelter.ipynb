{
 "cells": [
  {
   "cell_type": "markdown",
   "metadata": {},
   "source": [
    "# Analysing temperature measurements in an animal shelter"
   ]
  },
  {
   "cell_type": "markdown",
   "metadata": {},
   "source": [
    "Once the temerature mesurements have been retrived as a .csv file they can be processed and analysed with pandas and matplotlib.pyplot.\n",
    "\n",
    "We will first import these two libraries."
   ]
  },
  {
   "cell_type": "code",
   "execution_count": 2,
   "metadata": {},
   "outputs": [],
   "source": [
    "import matplotlib.pyplot as plt\n",
    "import pandas as pd"
   ]
  },
  {
   "cell_type": "markdown",
   "metadata": {},
   "source": [
    "We will than load the .csv file and perform Exploratory Data Analysis (EDA)."
   ]
  },
  {
   "cell_type": "code",
   "execution_count": 3,
   "metadata": {},
   "outputs": [],
   "source": [
    "df = pd.read_csv('Stats.csv', header=None) \n",
    "# as the file contains no header row, we will block automatinc inference of column names"
   ]
  },
  {
   "cell_type": "markdown",
   "metadata": {},
   "source": [
    "EDA is understanding data sets through their main characteristics and plotting them visually. The main EDA objectives of this project are:\n",
    "* Describing the data set - preview of the data set, infering the number of rows/columns, data types, and possible missing data; \n",
    "* Tidying and cleaning the data set - handle missing data and incorrect values;\n",
    "* Visualising data. "
   ]
  },
  {
   "cell_type": "markdown",
   "metadata": {},
   "source": [
    "## Describing the data set"
   ]
  },
  {
   "cell_type": "markdown",
   "metadata": {},
   "source": [
    "First, we would like to take a look at the data set to see how the data presents itself and define our strategy."
   ]
  },
  {
   "cell_type": "code",
   "execution_count": 4,
   "metadata": {},
   "outputs": [
    {
     "data": {
      "text/html": [
       "<div>\n",
       "<style scoped>\n",
       "    .dataframe tbody tr th:only-of-type {\n",
       "        vertical-align: middle;\n",
       "    }\n",
       "\n",
       "    .dataframe tbody tr th {\n",
       "        vertical-align: top;\n",
       "    }\n",
       "\n",
       "    .dataframe thead th {\n",
       "        text-align: right;\n",
       "    }\n",
       "</style>\n",
       "<table border=\"1\" class=\"dataframe\">\n",
       "  <thead>\n",
       "    <tr style=\"text-align: right;\">\n",
       "      <th></th>\n",
       "      <th>0</th>\n",
       "      <th>1</th>\n",
       "      <th>2</th>\n",
       "    </tr>\n",
       "  </thead>\n",
       "  <tbody>\n",
       "    <tr>\n",
       "      <th>0</th>\n",
       "      <td>2019-06-30 18:42:12</td>\n",
       "      <td>92</td>\n",
       "      <td>29.1</td>\n",
       "    </tr>\n",
       "    <tr>\n",
       "      <th>1</th>\n",
       "      <td>2019-06-30 18:42:12</td>\n",
       "      <td>92</td>\n",
       "      <td>29.1</td>\n",
       "    </tr>\n",
       "    <tr>\n",
       "      <th>2</th>\n",
       "      <td>2019-06-30 18:42:20</td>\n",
       "      <td>30</td>\n",
       "      <td>28.7</td>\n",
       "    </tr>\n",
       "    <tr>\n",
       "      <th>3</th>\n",
       "      <td>2019-06-30 18:42:20</td>\n",
       "      <td>30</td>\n",
       "      <td>28.7</td>\n",
       "    </tr>\n",
       "    <tr>\n",
       "      <th>4</th>\n",
       "      <td>2019-06-30 18:42:26</td>\n",
       "      <td>12</td>\n",
       "      <td>28.7</td>\n",
       "    </tr>\n",
       "  </tbody>\n",
       "</table>\n",
       "</div>"
      ],
      "text/plain": [
       "                     0   1     2\n",
       "0  2019-06-30 18:42:12  92  29.1\n",
       "1  2019-06-30 18:42:12  92  29.1\n",
       "2  2019-06-30 18:42:20  30  28.7\n",
       "3  2019-06-30 18:42:20  30  28.7\n",
       "4  2019-06-30 18:42:26  12  28.7"
      ]
     },
     "execution_count": 4,
     "metadata": {},
     "output_type": "execute_result"
    }
   ],
   "source": [
    "df.head() # visualise the first 5 rows of the DataFrame"
   ]
  },
  {
   "cell_type": "code",
   "execution_count": 5,
   "metadata": {},
   "outputs": [
    {
     "data": {
      "text/html": [
       "<div>\n",
       "<style scoped>\n",
       "    .dataframe tbody tr th:only-of-type {\n",
       "        vertical-align: middle;\n",
       "    }\n",
       "\n",
       "    .dataframe tbody tr th {\n",
       "        vertical-align: top;\n",
       "    }\n",
       "\n",
       "    .dataframe thead th {\n",
       "        text-align: right;\n",
       "    }\n",
       "</style>\n",
       "<table border=\"1\" class=\"dataframe\">\n",
       "  <thead>\n",
       "    <tr style=\"text-align: right;\">\n",
       "      <th></th>\n",
       "      <th>0</th>\n",
       "      <th>1</th>\n",
       "      <th>2</th>\n",
       "    </tr>\n",
       "  </thead>\n",
       "  <tbody>\n",
       "    <tr>\n",
       "      <th>2801861</th>\n",
       "      <td>2019-12-09 17:24:45</td>\n",
       "      <td>12</td>\n",
       "      <td>26.2</td>\n",
       "    </tr>\n",
       "    <tr>\n",
       "      <th>2801862</th>\n",
       "      <td>2019-12-09 17:24:47</td>\n",
       "      <td>30</td>\n",
       "      <td>21.3</td>\n",
       "    </tr>\n",
       "    <tr>\n",
       "      <th>2801863</th>\n",
       "      <td>2019-12-09 17:24:47</td>\n",
       "      <td>30</td>\n",
       "      <td>21.3</td>\n",
       "    </tr>\n",
       "    <tr>\n",
       "      <th>2801864</th>\n",
       "      <td>2019-12-09 17:24:54</td>\n",
       "      <td>92</td>\n",
       "      <td>18.2</td>\n",
       "    </tr>\n",
       "    <tr>\n",
       "      <th>2801865</th>\n",
       "      <td>2019-12-09 17:24:54</td>\n",
       "      <td>92</td>\n",
       "      <td>18.2</td>\n",
       "    </tr>\n",
       "  </tbody>\n",
       "</table>\n",
       "</div>"
      ],
      "text/plain": [
       "                           0   1     2\n",
       "2801861  2019-12-09 17:24:45  12  26.2\n",
       "2801862  2019-12-09 17:24:47  30  21.3\n",
       "2801863  2019-12-09 17:24:47  30  21.3\n",
       "2801864  2019-12-09 17:24:54  92  18.2\n",
       "2801865  2019-12-09 17:24:54  92  18.2"
      ]
     },
     "execution_count": 5,
     "metadata": {},
     "output_type": "execute_result"
    }
   ],
   "source": [
    "df.tail() # visualise the last 5 rows of the DataFrame"
   ]
  },
  {
   "cell_type": "code",
   "execution_count": 6,
   "metadata": {},
   "outputs": [
    {
     "data": {
      "text/plain": [
       "(2801866, 3)"
      ]
     },
     "execution_count": 6,
     "metadata": {},
     "output_type": "execute_result"
    }
   ],
   "source": [
    "df.shape # the raw data set has 2801866 rows and 3 columns"
   ]
  },
  {
   "cell_type": "markdown",
   "metadata": {},
   "source": [
    "We notice that the data is arranged into 3 columns: the \"0\" column includes the data stamp of the temperature measurement, the \"1\" column includes the thermometre id in by room and the last column, \"2\", includes the respective temperature reading. \n",
    "\n",
    "Therefore, we can rename the columns as *\"Date\"*, *\"id\"*, and *\"Temp\"*. "
   ]
  },
  {
   "cell_type": "code",
   "execution_count": 7,
   "metadata": {},
   "outputs": [],
   "source": [
    "df.columns = ['Date', 'id', 'Temp']"
   ]
  },
  {
   "cell_type": "markdown",
   "metadata": {},
   "source": [
    "Next, it is interesting to check the type of the data we have in the data set and change this where necessary."
   ]
  },
  {
   "cell_type": "code",
   "execution_count": 8,
   "metadata": {},
   "outputs": [
    {
     "name": "stdout",
     "output_type": "stream",
     "text": [
      "<class 'pandas.core.frame.DataFrame'>\n",
      "RangeIndex: 2801866 entries, 0 to 2801865\n",
      "Data columns (total 3 columns):\n",
      "Date    object\n",
      "id      int64\n",
      "Temp    float64\n",
      "dtypes: float64(1), int64(1), object(1)\n",
      "memory usage: 64.1+ MB\n"
     ]
    }
   ],
   "source": [
    "df.info()"
   ]
  },
  {
   "cell_type": "markdown",
   "metadata": {},
   "source": [
    "We observe here that *\"Date\"* is classified as an *object* and the *\"id\"* as an *integer\"* and should proceed to changing the data type of these two columns to *datetime* and to *category*, respectively. "
   ]
  },
  {
   "cell_type": "code",
   "execution_count": 9,
   "metadata": {},
   "outputs": [],
   "source": [
    "df['Date'] = pd.to_datetime(df['Date'])"
   ]
  },
  {
   "cell_type": "code",
   "execution_count": 10,
   "metadata": {},
   "outputs": [],
   "source": [
    "df['id']=df['id'].astype('category')"
   ]
  },
  {
   "cell_type": "markdown",
   "metadata": {},
   "source": [
    "Setting the *\"id\"* as a *category* type alse reduces memory usage from 64.1+ MB to 45.4 MB."
   ]
  },
  {
   "cell_type": "code",
   "execution_count": 11,
   "metadata": {},
   "outputs": [
    {
     "name": "stdout",
     "output_type": "stream",
     "text": [
      "<class 'pandas.core.frame.DataFrame'>\n",
      "RangeIndex: 2801866 entries, 0 to 2801865\n",
      "Data columns (total 3 columns):\n",
      "Date    datetime64[ns]\n",
      "id      category\n",
      "Temp    float64\n",
      "dtypes: category(1), datetime64[ns](1), float64(1)\n",
      "memory usage: 45.4 MB\n"
     ]
    }
   ],
   "source": [
    "df.info()"
   ]
  },
  {
   "cell_type": "markdown",
   "metadata": {},
   "source": [
    "Next, we should check to see if there are any missing values in the data set. "
   ]
  },
  {
   "cell_type": "code",
   "execution_count": 12,
   "metadata": {},
   "outputs": [
    {
     "data": {
      "text/plain": [
       "Date    0\n",
       "id      0\n",
       "Temp    0\n",
       "dtype: int64"
      ]
     },
     "execution_count": 12,
     "metadata": {},
     "output_type": "execute_result"
    }
   ],
   "source": [
    "df.isnull().sum()"
   ]
  },
  {
   "cell_type": "markdown",
   "metadata": {},
   "source": [
    "There does not seem to be any, but something still does not seem right when we look at the top 5 first and last rows. Indeed, we notice that rows 1 and 2 are identical, and so are rows 3 and 4. Therefore, we need to drop the duplicate measurements."
   ]
  },
  {
   "cell_type": "code",
   "execution_count": 13,
   "metadata": {},
   "outputs": [],
   "source": [
    "df.drop_duplicates(inplace=True) "
   ]
  },
  {
   "cell_type": "markdown",
   "metadata": {},
   "source": [
    "The number of rows in the data set thus dropped from 2801866 to 1590738."
   ]
  },
  {
   "cell_type": "code",
   "execution_count": 14,
   "metadata": {},
   "outputs": [
    {
     "data": {
      "text/plain": [
       "(1590738, 3)"
      ]
     },
     "execution_count": 14,
     "metadata": {},
     "output_type": "execute_result"
    }
   ],
   "source": [
    "df.shape"
   ]
  },
  {
   "cell_type": "markdown",
   "metadata": {},
   "source": [
    "## Tidying and cleaning the data set"
   ]
  },
  {
   "cell_type": "markdown",
   "metadata": {},
   "source": [
    "The next stage is to tidy and clean the data set. \n",
    "\n",
    "The thermometers were taking measurements on irregular intervals of seconds. This order of detail of data is probably excessively meticulous for further analysis and will take more computational power than it can be justified. A good comprise would be to round up the measurements to hourly intervals. "
   ]
  },
  {
   "cell_type": "code",
   "execution_count": 15,
   "metadata": {},
   "outputs": [],
   "source": [
    "df = df.set_index('Date') \n",
    "# set a datetime index"
   ]
  },
  {
   "cell_type": "code",
   "execution_count": 16,
   "metadata": {},
   "outputs": [],
   "source": [
    "df = df.groupby('id').resample('H').mean() \n",
    "# resample by id to obtain the hourly mean"
   ]
  },
  {
   "cell_type": "markdown",
   "metadata": {},
   "source": [
    "Given that the *\"id\"* column registers the measurements by different rooms, it would be interesting to see if the there are any missing or currupt values by room. \n",
    "\n",
    "For this, we need first to reset the index than pivot our DataFrame. "
   ]
  },
  {
   "cell_type": "code",
   "execution_count": 17,
   "metadata": {},
   "outputs": [],
   "source": [
    "df = df.reset_index() \n",
    "# reset the index to be able to rearrange the table "
   ]
  },
  {
   "cell_type": "code",
   "execution_count": 18,
   "metadata": {},
   "outputs": [],
   "source": [
    "df = df.pivot(index='Date', columns='id', values='Temp') \n",
    "# arrange the hourly temperature by id"
   ]
  },
  {
   "cell_type": "code",
   "execution_count": 19,
   "metadata": {},
   "outputs": [
    {
     "data": {
      "text/plain": [
       "id\n",
       "3       14\n",
       "11      14\n",
       "12      14\n",
       "30      14\n",
       "64      14\n",
       "68    3887\n",
       "92      13\n",
       "dtype: int64"
      ]
     },
     "execution_count": 19,
     "metadata": {},
     "output_type": "execute_result"
    }
   ],
   "source": [
    "df.isnull().sum() \n",
    "# check for missing values "
   ]
  },
  {
   "cell_type": "code",
   "execution_count": 20,
   "metadata": {},
   "outputs": [
    {
     "data": {
      "text/plain": [
       "(3888, 7)"
      ]
     },
     "execution_count": 20,
     "metadata": {},
     "output_type": "execute_result"
    }
   ],
   "source": [
    "df.shape"
   ]
  },
  {
   "cell_type": "markdown",
   "metadata": {},
   "source": [
    "We notice that the room with the id \"68\" contains only one value. This might be related to a technical bug or a restart of the thermometre which probably allocated the measurements to another id at later periods. Thefore, the column related to the id \"68\" can be dropped altogher without any significant loss of data in the data set. \n",
    "\n",
    "We equally notice missing data for other rooms which we will address later."
   ]
  },
  {
   "cell_type": "code",
   "execution_count": 21,
   "metadata": {},
   "outputs": [],
   "source": [
    "index_df = df.index.to_frame(index=False)\n",
    "# substract the datetime index to be able to reset the CategoricalIndex columns"
   ]
  },
  {
   "cell_type": "code",
   "execution_count": 22,
   "metadata": {},
   "outputs": [],
   "source": [
    "df = df.reset_index(drop=True)\n",
    "# reset the CategoricalIndex columns"
   ]
  },
  {
   "cell_type": "code",
   "execution_count": 23,
   "metadata": {},
   "outputs": [],
   "source": [
    "df = pd.merge(index_df, df, left_index=True, right_index=True)\n",
    "# merge the two DataFrames"
   ]
  },
  {
   "cell_type": "code",
   "execution_count": 24,
   "metadata": {},
   "outputs": [],
   "source": [
    "df.columns = ['Date', 'rue_gauche', 'couloir_bas', 'chambre_droite', 'rue_droite', 'cuisine', 'valeurs_absentes', 'sdb']\n",
    "# rename the columns"
   ]
  },
  {
   "cell_type": "code",
   "execution_count": 25,
   "metadata": {},
   "outputs": [],
   "source": [
    "df = df.drop(columns = 'valeurs_absentes') # drop the column with missing values"
   ]
  },
  {
   "cell_type": "code",
   "execution_count": 26,
   "metadata": {},
   "outputs": [],
   "source": [
    "df['Date'] = pd.to_datetime(df['Date'])"
   ]
  },
  {
   "cell_type": "code",
   "execution_count": 27,
   "metadata": {},
   "outputs": [],
   "source": [
    "df = df.set_index('Date') # set a datetime index"
   ]
  },
  {
   "cell_type": "markdown",
   "metadata": {},
   "source": [
    "Check the \"rearranged\" data set before adressing the remaining missing values."
   ]
  },
  {
   "cell_type": "code",
   "execution_count": 28,
   "metadata": {},
   "outputs": [
    {
     "data": {
      "text/html": [
       "<div>\n",
       "<style scoped>\n",
       "    .dataframe tbody tr th:only-of-type {\n",
       "        vertical-align: middle;\n",
       "    }\n",
       "\n",
       "    .dataframe tbody tr th {\n",
       "        vertical-align: top;\n",
       "    }\n",
       "\n",
       "    .dataframe thead th {\n",
       "        text-align: right;\n",
       "    }\n",
       "</style>\n",
       "<table border=\"1\" class=\"dataframe\">\n",
       "  <thead>\n",
       "    <tr style=\"text-align: right;\">\n",
       "      <th></th>\n",
       "      <th>rue_gauche</th>\n",
       "      <th>couloir_bas</th>\n",
       "      <th>chambre_droite</th>\n",
       "      <th>rue_droite</th>\n",
       "      <th>cuisine</th>\n",
       "      <th>sdb</th>\n",
       "    </tr>\n",
       "    <tr>\n",
       "      <th>Date</th>\n",
       "      <th></th>\n",
       "      <th></th>\n",
       "      <th></th>\n",
       "      <th></th>\n",
       "      <th></th>\n",
       "      <th></th>\n",
       "    </tr>\n",
       "  </thead>\n",
       "  <tbody>\n",
       "    <tr>\n",
       "      <th>2019-06-30 18:00:00</th>\n",
       "      <td>29.240909</td>\n",
       "      <td>27.944444</td>\n",
       "      <td>28.700000</td>\n",
       "      <td>28.931818</td>\n",
       "      <td>28.561905</td>\n",
       "      <td>29.461905</td>\n",
       "    </tr>\n",
       "    <tr>\n",
       "      <th>2019-06-30 19:00:00</th>\n",
       "      <td>29.061972</td>\n",
       "      <td>27.428358</td>\n",
       "      <td>28.497015</td>\n",
       "      <td>28.730303</td>\n",
       "      <td>28.230882</td>\n",
       "      <td>29.377419</td>\n",
       "    </tr>\n",
       "    <tr>\n",
       "      <th>2019-06-30 20:00:00</th>\n",
       "      <td>28.990000</td>\n",
       "      <td>27.160606</td>\n",
       "      <td>28.112121</td>\n",
       "      <td>28.779412</td>\n",
       "      <td>28.084286</td>\n",
       "      <td>29.310000</td>\n",
       "    </tr>\n",
       "    <tr>\n",
       "      <th>2019-06-30 21:00:00</th>\n",
       "      <td>29.200000</td>\n",
       "      <td>27.100000</td>\n",
       "      <td>28.208824</td>\n",
       "      <td>28.949231</td>\n",
       "      <td>28.200000</td>\n",
       "      <td>29.407353</td>\n",
       "    </tr>\n",
       "    <tr>\n",
       "      <th>2019-06-30 22:00:00</th>\n",
       "      <td>29.200000</td>\n",
       "      <td>27.457353</td>\n",
       "      <td>28.155714</td>\n",
       "      <td>28.653425</td>\n",
       "      <td>28.292754</td>\n",
       "      <td>29.329508</td>\n",
       "    </tr>\n",
       "  </tbody>\n",
       "</table>\n",
       "</div>"
      ],
      "text/plain": [
       "                     rue_gauche  couloir_bas  chambre_droite  rue_droite  \\\n",
       "Date                                                                       \n",
       "2019-06-30 18:00:00   29.240909    27.944444       28.700000   28.931818   \n",
       "2019-06-30 19:00:00   29.061972    27.428358       28.497015   28.730303   \n",
       "2019-06-30 20:00:00   28.990000    27.160606       28.112121   28.779412   \n",
       "2019-06-30 21:00:00   29.200000    27.100000       28.208824   28.949231   \n",
       "2019-06-30 22:00:00   29.200000    27.457353       28.155714   28.653425   \n",
       "\n",
       "                       cuisine        sdb  \n",
       "Date                                       \n",
       "2019-06-30 18:00:00  28.561905  29.461905  \n",
       "2019-06-30 19:00:00  28.230882  29.377419  \n",
       "2019-06-30 20:00:00  28.084286  29.310000  \n",
       "2019-06-30 21:00:00  28.200000  29.407353  \n",
       "2019-06-30 22:00:00  28.292754  29.329508  "
      ]
     },
     "execution_count": 28,
     "metadata": {},
     "output_type": "execute_result"
    }
   ],
   "source": [
    "df.head()"
   ]
  },
  {
   "cell_type": "markdown",
   "metadata": {},
   "source": [
    "There are between 13 and 14 missing values for each room."
   ]
  },
  {
   "cell_type": "code",
   "execution_count": 29,
   "metadata": {},
   "outputs": [
    {
     "data": {
      "text/plain": [
       "rue_gauche        14\n",
       "couloir_bas       14\n",
       "chambre_droite    14\n",
       "rue_droite        14\n",
       "cuisine           14\n",
       "sdb               13\n",
       "dtype: int64"
      ]
     },
     "execution_count": 29,
     "metadata": {},
     "output_type": "execute_result"
    }
   ],
   "source": [
    "df.isnull().sum()"
   ]
  },
  {
   "cell_type": "markdown",
   "metadata": {},
   "source": [
    "In order to decide how to resolve the missing values, we need to identify at which moment in time and at which intervals the data is missing. \n",
    "\n",
    "Using the *\"loc\"* method, we check for different time intervals and see that 2 data points are missing for September and between 11 and 12 data points are missing for December, most of them missing for the day before the last day of measurements in the data set."
   ]
  },
  {
   "cell_type": "code",
   "execution_count": 30,
   "metadata": {},
   "outputs": [
    {
     "data": {
      "text/plain": [
       "rue_gauche        2\n",
       "couloir_bas       2\n",
       "chambre_droite    2\n",
       "rue_droite        2\n",
       "cuisine           2\n",
       "sdb               2\n",
       "dtype: int64"
      ]
     },
     "execution_count": 30,
     "metadata": {},
     "output_type": "execute_result"
    }
   ],
   "source": [
    "df.loc['2019-09-01':'2019-09-30'].isnull().sum()\n",
    "# 2 missing values have been identified for September"
   ]
  },
  {
   "cell_type": "code",
   "execution_count": 31,
   "metadata": {},
   "outputs": [
    {
     "data": {
      "text/html": [
       "<div>\n",
       "<style scoped>\n",
       "    .dataframe tbody tr th:only-of-type {\n",
       "        vertical-align: middle;\n",
       "    }\n",
       "\n",
       "    .dataframe tbody tr th {\n",
       "        vertical-align: top;\n",
       "    }\n",
       "\n",
       "    .dataframe thead th {\n",
       "        text-align: right;\n",
       "    }\n",
       "</style>\n",
       "<table border=\"1\" class=\"dataframe\">\n",
       "  <thead>\n",
       "    <tr style=\"text-align: right;\">\n",
       "      <th></th>\n",
       "      <th>rue_gauche</th>\n",
       "      <th>couloir_bas</th>\n",
       "      <th>chambre_droite</th>\n",
       "      <th>rue_droite</th>\n",
       "      <th>cuisine</th>\n",
       "      <th>sdb</th>\n",
       "    </tr>\n",
       "    <tr>\n",
       "      <th>Date</th>\n",
       "      <th></th>\n",
       "      <th></th>\n",
       "      <th></th>\n",
       "      <th></th>\n",
       "      <th></th>\n",
       "      <th></th>\n",
       "    </tr>\n",
       "  </thead>\n",
       "  <tbody>\n",
       "    <tr>\n",
       "      <th>2019-12-09 13:00:00</th>\n",
       "      <td>19.577273</td>\n",
       "      <td>18.330435</td>\n",
       "      <td>21.500000</td>\n",
       "      <td>20.252857</td>\n",
       "      <td>19.370423</td>\n",
       "      <td>18.907143</td>\n",
       "    </tr>\n",
       "    <tr>\n",
       "      <th>2019-12-09 14:00:00</th>\n",
       "      <td>17.371014</td>\n",
       "      <td>16.463235</td>\n",
       "      <td>18.612676</td>\n",
       "      <td>19.305479</td>\n",
       "      <td>17.809859</td>\n",
       "      <td>18.583871</td>\n",
       "    </tr>\n",
       "    <tr>\n",
       "      <th>2019-12-09 15:00:00</th>\n",
       "      <td>17.895714</td>\n",
       "      <td>15.810294</td>\n",
       "      <td>17.718056</td>\n",
       "      <td>19.508451</td>\n",
       "      <td>18.116901</td>\n",
       "      <td>18.334375</td>\n",
       "    </tr>\n",
       "    <tr>\n",
       "      <th>2019-12-09 16:00:00</th>\n",
       "      <td>19.516667</td>\n",
       "      <td>16.400000</td>\n",
       "      <td>18.441270</td>\n",
       "      <td>20.053030</td>\n",
       "      <td>18.804615</td>\n",
       "      <td>18.852542</td>\n",
       "    </tr>\n",
       "    <tr>\n",
       "      <th>2019-12-09 17:00:00</th>\n",
       "      <td>20.400000</td>\n",
       "      <td>18.370000</td>\n",
       "      <td>25.438889</td>\n",
       "      <td>21.150000</td>\n",
       "      <td>19.370588</td>\n",
       "      <td>18.522222</td>\n",
       "    </tr>\n",
       "  </tbody>\n",
       "</table>\n",
       "</div>"
      ],
      "text/plain": [
       "                     rue_gauche  couloir_bas  chambre_droite  rue_droite  \\\n",
       "Date                                                                       \n",
       "2019-12-09 13:00:00   19.577273    18.330435       21.500000   20.252857   \n",
       "2019-12-09 14:00:00   17.371014    16.463235       18.612676   19.305479   \n",
       "2019-12-09 15:00:00   17.895714    15.810294       17.718056   19.508451   \n",
       "2019-12-09 16:00:00   19.516667    16.400000       18.441270   20.053030   \n",
       "2019-12-09 17:00:00   20.400000    18.370000       25.438889   21.150000   \n",
       "\n",
       "                       cuisine        sdb  \n",
       "Date                                       \n",
       "2019-12-09 13:00:00  19.370423  18.907143  \n",
       "2019-12-09 14:00:00  17.809859  18.583871  \n",
       "2019-12-09 15:00:00  18.116901  18.334375  \n",
       "2019-12-09 16:00:00  18.804615  18.852542  \n",
       "2019-12-09 17:00:00  19.370588  18.522222  "
      ]
     },
     "execution_count": 31,
     "metadata": {},
     "output_type": "execute_result"
    }
   ],
   "source": [
    "df.tail() \n",
    "# check the last registered values"
   ]
  },
  {
   "cell_type": "code",
   "execution_count": 32,
   "metadata": {},
   "outputs": [
    {
     "data": {
      "text/plain": [
       "rue_gauche        12\n",
       "couloir_bas       12\n",
       "chambre_droite    12\n",
       "rue_droite        12\n",
       "cuisine           12\n",
       "sdb               11\n",
       "dtype: int64"
      ]
     },
     "execution_count": 32,
     "metadata": {},
     "output_type": "execute_result"
    }
   ],
   "source": [
    "df.loc['2019-12-01':'2019-12-09'].isnull().sum() \n",
    "# between 11 and 12 missing values have been identified for December "
   ]
  },
  {
   "cell_type": "code",
   "execution_count": 33,
   "metadata": {},
   "outputs": [
    {
     "data": {
      "text/plain": [
       "rue_gauche        11\n",
       "couloir_bas       11\n",
       "chambre_droite    11\n",
       "rue_droite        11\n",
       "cuisine           11\n",
       "sdb               11\n",
       "dtype: int64"
      ]
     },
     "execution_count": 33,
     "metadata": {},
     "output_type": "execute_result"
    }
   ],
   "source": [
    "df.loc['2019-12-08'].isnull().sum() \n",
    "# most of them are for the day before last day of measurements in the data set"
   ]
  },
  {
   "cell_type": "markdown",
   "metadata": {},
   "source": [
    "As there is a significant number of missing values during the last 2 days of measurements and these missing values are consistent among all rooms, we can drop the last 2 days of measurements in the data set."
   ]
  },
  {
   "cell_type": "code",
   "execution_count": 34,
   "metadata": {},
   "outputs": [],
   "source": [
    "df = df.loc['2019-06-30 18:00:00':'2019-12-08 05:00:00'] "
   ]
  },
  {
   "cell_type": "markdown",
   "metadata": {},
   "source": [
    "For the remaining 3 missing values, given that the measurement are provided at hourly intervals we can decide to address them via forward fill. "
   ]
  },
  {
   "cell_type": "code",
   "execution_count": 35,
   "metadata": {},
   "outputs": [],
   "source": [
    "df = df.fillna(method='ffill')"
   ]
  },
  {
   "cell_type": "markdown",
   "metadata": {},
   "source": [
    "Thus all the missing values have been solved, the datatset is clean and ready to be visualised."
   ]
  },
  {
   "cell_type": "code",
   "execution_count": 36,
   "metadata": {},
   "outputs": [
    {
     "data": {
      "text/plain": [
       "rue_gauche        0\n",
       "couloir_bas       0\n",
       "chambre_droite    0\n",
       "rue_droite        0\n",
       "cuisine           0\n",
       "sdb               0\n",
       "dtype: int64"
      ]
     },
     "execution_count": 36,
     "metadata": {},
     "output_type": "execute_result"
    }
   ],
   "source": [
    "df.isnull().sum()"
   ]
  },
  {
   "cell_type": "markdown",
   "metadata": {},
   "source": [
    "## Visualising data"
   ]
  },
  {
   "cell_type": "markdown",
   "metadata": {},
   "source": [
    "Now that the data set has been cleaned and prepared for analysis we can proceed to data visualisation. "
   ]
  },
  {
   "cell_type": "code",
   "execution_count": null,
   "metadata": {},
   "outputs": [],
   "source": []
  }
 ],
 "metadata": {
  "kernelspec": {
   "display_name": "Python 3",
   "language": "python",
   "name": "python3"
  },
  "language_info": {
   "codemirror_mode": {
    "name": "ipython",
    "version": 3
   },
   "file_extension": ".py",
   "mimetype": "text/x-python",
   "name": "python",
   "nbconvert_exporter": "python",
   "pygments_lexer": "ipython3",
   "version": "3.7.1"
  }
 },
 "nbformat": 4,
 "nbformat_minor": 2
}
